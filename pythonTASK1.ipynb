{
 "cells": [
  {
   "cell_type": "markdown",
   "id": "c6c94824-5a16-4405-924a-ec84bb683730",
   "metadata": {},
   "source": [
    "### Task 1 \n",
    "*TEMP converter*"
   ]
  },
  {
   "cell_type": "code",
   "execution_count": 6,
   "id": "7f428922-1f59-4e5d-8b2c-375520ae23a8",
   "metadata": {},
   "outputs": [
    {
     "name": "stdout",
     "output_type": "stream",
     "text": [
      "Welcome to my Temp Converter\n"
     ]
    }
   ],
   "source": [
    "print(\"Welcome to my Temp Converter\")"
   ]
  },
  {
   "cell_type": "code",
   "execution_count": 25,
   "id": "e5cd4c3b-34ec-4cef-a9da-884b54723b09",
   "metadata": {},
   "outputs": [
    {
     "name": "stdout",
     "output_type": "stream",
     "text": [
      "What do u like to do?\n",
      "1.convert celsius to fahrenheit\n",
      "2.convert fahrenheit to celsius\n"
     ]
    },
    {
     "name": "stdin",
     "output_type": "stream",
     "text": [
      "enter 1 or 2 1\n",
      "Enter temperature in Celsius:  37\n"
     ]
    },
    {
     "name": "stdout",
     "output_type": "stream",
     "text": [
      "37.0°C is equal to 98.60°F\n"
     ]
    },
    {
     "name": "stdin",
     "output_type": "stream",
     "text": [
      "Do you want to convert another temperature? (yes/no):  no\n"
     ]
    },
    {
     "name": "stdout",
     "output_type": "stream",
     "text": [
      "Thank you for using my converter\n"
     ]
    }
   ],
   "source": [
    "    while True:\n",
    "        print(\"What do u like to do?\")\n",
    "        print(\"1.convert celsius to fahrenheit\" )\n",
    "        print(\"2.convert fahrenheit to celsius\" )  \n",
    "        \n",
    "        choice = input(\"enter 1 or 2\")\n",
    "        \n",
    "        if choice == \"1\":\n",
    "            celsius = float(input(\"Enter temperature in Celsius: \"))\n",
    "            fahrenheit = (celsius * 9/5) + 32\n",
    "            print(f\"{celsius}°C is equal to {fahrenheit:.2f}°F\")\n",
    "    \n",
    "        elif choice == \"2\":\n",
    "            fahrenheit = float(input(\"Enter temperature in Fahrenheit: \"))\n",
    "            celsius = (fahrenheit - 32) * 5/9\n",
    "            print(f\"{fahrenheit}°F is equal to {celsius:.2f}°C\")\n",
    "    \n",
    "        else:\n",
    "            print(\"Invalid choice, please enter 1 or 2.\")        \n",
    "    \n",
    "        again = input(\"Do you want to convert another temperature? (yes/no): \").lower()\n",
    "        if again != \"yes\":\n",
    "            print(\"Thank you for using my converter\")\n",
    "            break\n"
   ]
  },
  {
   "cell_type": "code",
   "execution_count": null,
   "id": "4d13667c-222d-4b9e-a2d4-8c4e3aac7c11",
   "metadata": {},
   "outputs": [],
   "source": []
  },
  {
   "cell_type": "code",
   "execution_count": null,
   "id": "2c80ee44-7d45-4a66-bf68-2dade8d4b431",
   "metadata": {},
   "outputs": [],
   "source": []
  },
  {
   "cell_type": "code",
   "execution_count": null,
   "id": "3b4dcfaa-7d22-4b5b-bbb5-e08daaf663f6",
   "metadata": {},
   "outputs": [],
   "source": []
  },
  {
   "cell_type": "code",
   "execution_count": null,
   "id": "16db4bd5-7f3b-4538-acf0-98c012c4bf3f",
   "metadata": {},
   "outputs": [],
   "source": []
  }
 ],
 "metadata": {
  "kernelspec": {
   "display_name": "Python 3 (ipykernel)",
   "language": "python",
   "name": "python3"
  },
  "language_info": {
   "codemirror_mode": {
    "name": "ipython",
    "version": 3
   },
   "file_extension": ".py",
   "mimetype": "text/x-python",
   "name": "python",
   "nbconvert_exporter": "python",
   "pygments_lexer": "ipython3",
   "version": "3.13.5"
  }
 },
 "nbformat": 4,
 "nbformat_minor": 5
}
