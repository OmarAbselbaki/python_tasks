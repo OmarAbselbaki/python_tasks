{
 "cells": [
  {
   "cell_type": "code",
   "execution_count": null,
   "id": "294a67b4",
   "metadata": {},
   "outputs": [
    {
     "name": "stdout",
     "output_type": "stream",
     "text": [
      "12\n",
      "18\n",
      "25\n",
      "30\n",
      "Sum of numbers less than or equal to 10: 24\n",
      "Average of numbers greater than 10: 21.25\n",
      "Maximum number in the list: 30\n",
      "Minimum number in the list: 1\n"
     ]
    }
   ],
   "source": [
    "#omar \n",
    "# #TASK 2 ____ you are given alist of integers\n",
    "#print all nums from the list are greater than 10  \n",
    "nums = [1, 5, 12, 18, 7, 3, 25, 30, 8]\n",
    "for num in nums:\n",
    "    if num > 10:\n",
    "        print(num)      \n",
    "#calc. and print sum all nums less than or equal 10\n",
    "sum_less_equal_10 = sum(num for num in nums if num <= 10)\n",
    "print(\"Sum of numbers less than or equal to 10:\", sum_less_equal_10)\n",
    "#calc. and print avg. of all nums greater than 10\n",
    "greater_than_10 = [num for num in nums if num > 10]\n",
    "if greater_than_10:\n",
    "    avg_greater_than_10 = sum(greater_than_10) / len(greater_than_10)\n",
    "    print(\"Average of numbers greater than 10:\", avg_greater_than_10)\n",
    "else:\n",
    "    print(\"No numbers greater than 10 to calculate average.\")\n",
    "#find and print the max num from the list\n",
    "max_num = max(nums)\n",
    "print(\"Maximum number in the list:\", max_num)\n",
    "#find and print the min num from the list\n",
    "min_num = min(nums)\n",
    "print(\"Minimum number in the list:\", min_num) "
   ]
  },
  {
   "cell_type": "code",
   "execution_count": 3,
   "id": "53371ff7",
   "metadata": {},
   "outputs": [
    {
     "name": "stdout",
     "output_type": "stream",
     "text": [
      "Highest score: 95\n",
      "Number of scores above 50: 8\n",
      "Average score: 86.625\n",
      "Updated scores list (removed scores below 30): [85, 92, 78, 90, 88, 76, 95, 89]\n"
     ]
    }
   ],
   "source": [
    "# list of students scores task \n",
    "scores = [85, 92, 78, 90, 88, 76, 95, 89] \n",
    "\n",
    "#print the highest score\n",
    "highest_score = max(scores)\n",
    "print(\"Highest score:\", highest_score) \n",
    "\n",
    "#count and print how many scores are above 50 \n",
    "count_above_50 = sum(1 for score in scores if score > 50)\n",
    "print(\"Number of scores above 50:\", count_above_50)\n",
    "\n",
    "average_score = sum(scores) / len(scores)\n",
    "print(\"Average score:\", average_score)\n",
    "\n",
    "while any(score < 30 for score in scores):\n",
    "    scores = [score for score in scores if score >= 30]\n",
    "print(\"Updated scores list (removed scores below 30):\", scores)\n",
    "\n"
   ]
  }
 ],
 "metadata": {
  "kernelspec": {
   "display_name": "anaconda setup",
   "language": "python",
   "name": "python3"
  },
  "language_info": {
   "codemirror_mode": {
    "name": "ipython",
    "version": 3
   },
   "file_extension": ".py",
   "mimetype": "text/x-python",
   "name": "python",
   "nbconvert_exporter": "python",
   "pygments_lexer": "ipython3",
   "version": "3.13.5"
  }
 },
 "nbformat": 4,
 "nbformat_minor": 5
}
